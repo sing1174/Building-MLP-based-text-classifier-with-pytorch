{
 "cells": [
  {
   "cell_type": "code",
   "execution_count": 1,
   "id": "00e973ac-366a-46d1-9571-dc63e739db78",
   "metadata": {},
   "outputs": [
    {
     "name": "stderr",
     "output_type": "stream",
     "text": [
      "[nltk_data] Downloading package stopwords to\n",
      "[nltk_data]     C:\\Users\\ASUS\\AppData\\Roaming\\nltk_data...\n",
      "[nltk_data]   Package stopwords is already up-to-date!\n",
      "[nltk_data] Downloading package punkt to\n",
      "[nltk_data]     C:\\Users\\ASUS\\AppData\\Roaming\\nltk_data...\n",
      "[nltk_data]   Package punkt is already up-to-date!\n"
     ]
    },
    {
     "data": {
      "text/plain": [
       "True"
      ]
     },
     "execution_count": 1,
     "metadata": {},
     "output_type": "execute_result"
    }
   ],
   "source": [
    "import re\n",
    "import nltk\n",
    "import string\n",
    "from nltk.corpus import stopwords\n",
    "from nltk.stem import PorterStemmer\n",
    "import torch.optim as optim\n",
    "from torch.utils.data import DataLoader\n",
    "import matplotlib.pyplot as plt\n",
    "from tqdm import tqdm  # For showing progress bars\n",
    "import torch\n",
    "import torch.nn as nn\n",
    "import torch.optim as optim\n",
    "import torch.nn.functional as F\n",
    "import torchtext; torchtext.disable_torchtext_deprecation_warning()\n",
    "from torchtext.datasets import IMDB\n",
    "from torchtext.vocab import build_vocab_from_iterator\n",
    "from torch.optim import lr_scheduler\n",
    "import pandas as pd\n",
    "from tabulate import tabulate\n",
    "import random\n",
    "\n",
    "nltk.download('stopwords')\n",
    "nltk.download('punkt')"
   ]
  },
  {
   "cell_type": "code",
   "execution_count": 2,
   "id": "0e12cfa2-cba6-4e3e-87d0-91dc1469d3dc",
   "metadata": {},
   "outputs": [],
   "source": [
    "# Initialize stopwords and stemmer\n",
    "stop_words = set(stopwords.words('english'))\n",
    "ps = PorterStemmer()"
   ]
  },
  {
   "cell_type": "markdown",
   "id": "be302c31-b0e2-4f2b-9d3d-7c81779e36d3",
   "metadata": {},
   "source": [
    "### Text preprocessing functions\n",
    "Text preprocessing in this code involves **normalizing the text** by converting it to **lowercase, removing URLs, non-word characters,** and extra spaces, as well as **removing punctuation, stopwords,** and applying stemming**. This preprocessing cleans and standardizes the text data, making it more suitable for the sentiment classification model.\n",
    "\n",
    "Inspired from this Medium article: https://medium.com/@AMustafa4983/sentiment-analysis-on-imdb-movie-reviews-a-beginners-guide-d5136ec74e56\n"
   ]
  },
  {
   "cell_type": "code",
   "execution_count": 3,
   "id": "cf97962b-5e8c-46eb-a5cf-e1ea23b28825",
   "metadata": {},
   "outputs": [],
   "source": [
    "def remove_stopwords(text):\n",
    "    words = text.split()\n",
    "    filtered_sentence = ' '.join([word for word in words if word not in stop_words])\n",
    "    return filtered_sentence\n",
    "\n",
    "def normalize_text(text):\n",
    "    text = text.lower()\n",
    "    # Remove URLs\n",
    "    text = re.sub('https?://\\S+|www\\.\\S+', '', text)\n",
    "    # Remove non-word characters and extra spaces\n",
    "    text = re.sub('\\\\W', ' ', text)\n",
    "    text = re.sub('\\n', '', text)\n",
    "    text = re.sub(' +', ' ', text)\n",
    "    text = text.strip()\n",
    "    return text\n",
    "\n",
    "\n",
    "def remove_punctuation(text):\n",
    "    table = str.maketrans('', '', string.punctuation)\n",
    "    return text.translate(table)\n",
    "\n",
    "\n",
    "def stemming(text):\n",
    "    words = text.split()\n",
    "    stemmed_sentence = ' '.join([ps.stem(word) for word in words])\n",
    "    return stemmed_sentence\n",
    "\n",
    "\n",
    "# combining all \n",
    "def clean_text(text):\n",
    "    text = text.lower()\n",
    "    # Special character replacements\n",
    "    text = text.replace(',', ' , ').replace('.', ' . ').replace('/', ' / ').replace('@', ' @ ')\n",
    "    text = text.replace('#', ' # ').replace('?', ' ? ')\n",
    "    # Apply other cleaning functions\n",
    "    text = normalize_text(text)\n",
    "    text = remove_punctuation(text)\n",
    "    text = remove_stopwords(text)\n",
    "    text = stemming(text)\n",
    "    return text"
   ]
  },
  {
   "cell_type": "code",
   "execution_count": 4,
   "id": "5289a8f4-50a2-47c4-b94f-ece59a6f3fae",
   "metadata": {},
   "outputs": [],
   "source": [
    "# Preprocessing the text data in the IMDB dataset\n",
    "def preprocess_dataset(dataset):\n",
    "    preprocessed_data = []\n",
    "    for label, text in dataset:\n",
    "        cleaned_text = clean_text(text)\n",
    "        preprocessed_data.append((label, cleaned_text))\n",
    "    return preprocessed_data"
   ]
  },
  {
   "cell_type": "markdown",
   "id": "f53ae7fc-fb37-481c-946b-278061705cb5",
   "metadata": {},
   "source": [
    "### Task and hardware used \n",
    "**Task**: The task is to build and evaluate text classification models for sentiment analysis using the IMDB dataset. We compare 2-layer and 1-layer MLP model performances on the test set, plot the loss curves and analyze errors on few test set samples.\n",
    "\n",
    "**Hardware used**: Laptop GPU used for training - Nvidia GeForce RTX 3050\n",
    "\n",
    "### Choosing IMDB dataset from TorchText.datasets\n",
    "**IMDB Dataset**: This dataset is used for binary sentiment classification. It contains movie reviews labeled as positive or negative. In the code, the dataset is processed by applying text cleaning techniques such as normalization, removal of punctuation and stopwords, and stemming.\n",
    "\n"
   ]
  },
  {
   "cell_type": "code",
   "execution_count": 5,
   "id": "7c79b8f9-3531-4917-b705-bc9da99a2c21",
   "metadata": {},
   "outputs": [
    {
     "name": "stderr",
     "output_type": "stream",
     "text": [
      "C:\\Users\\ASUS\\anaconda3\\envs\\nlp\\lib\\site-packages\\torchdata\\datapipes\\__init__.py:18: UserWarning: \n",
      "################################################################################\n",
      "WARNING!\n",
      "The 'datapipes', 'dataloader2' modules are deprecated and will be removed in a\n",
      "future torchdata release! Please see https://github.com/pytorch/data/issues/1196\n",
      "to learn more and leave feedback.\n",
      "################################################################################\n",
      "\n",
      "  deprecation_warning()\n"
     ]
    }
   ],
   "source": [
    "# Choosing IMDB dataset\n",
    "train_iter = IMDB(split='train')\n",
    "train_data = preprocess_dataset(train_iter)\n",
    "\n",
    "# Use `train_data` for further tokenization and model training\n",
    "train_data = preprocess_dataset(IMDB(split='train'))"
   ]
  },
  {
   "cell_type": "markdown",
   "id": "b96e1cb9-0be4-4b5d-8367-ff20e31a374d",
   "metadata": {},
   "source": [
    "#### Tokenization and creating vocabulary\n",
    "Tokenization is performed using the **yield_tokens function**, and vocabulary is created with **build_vocab_from_iterator** to map each token to a numerical index. This numerical representation is then used to convert text into integer tokens for model training."
   ]
  },
  {
   "cell_type": "code",
   "execution_count": 6,
   "id": "b15570ed-e898-46b0-a4df-22d9aa80af29",
   "metadata": {},
   "outputs": [],
   "source": [
    "# Define a generator function to yield tokenized lines\n",
    "def yield_tokens(data_iter):\n",
    "    for _, text in data_iter:\n",
    "        yield text.split()\n",
    "\n",
    "# Build vocabulary from the dataset (select top vocab_size words)\n",
    "train_iter = IMDB(split='train')\n",
    "\n",
    "vocab = build_vocab_from_iterator(yield_tokens(train_iter))"
   ]
  },
  {
   "cell_type": "markdown",
   "id": "e674f45b-d612-4384-a8d9-663c7608a820",
   "metadata": {},
   "source": [
    "### Creating dataloader\n",
    "The **encode_line** function converts text into integer tokens based on the vocabulary. The **collate_batch** function processes batches of text and labels by encoding the them into tensors, converting labels to '0' (negative) and '1' (positive) classes and adjusting offsets for variable-length sequences."
   ]
  },
  {
   "cell_type": "code",
   "execution_count": 7,
   "id": "c20a6c6e-8a83-4560-ad11-86a3eb536eaf",
   "metadata": {},
   "outputs": [],
   "source": [
    "# Convert text into integer tokens\n",
    "def encode_line(line):\n",
    "    return [vocab[token] for token in line.split() if token in vocab]"
   ]
  },
  {
   "cell_type": "code",
   "execution_count": 8,
   "id": "e340fe24-80c8-422d-88d6-34d706adf423",
   "metadata": {},
   "outputs": [],
   "source": [
    "# dataset loader and batching, code inspired using ChatGPT\n",
    "def collate_batch(batch):\n",
    "    label_list, text_list, offsets = [], [], [0]\n",
    "    for (_label, _text) in batch:\n",
    "        label_list.append(1 if int(_label) == 2 else 0)  # Convert label to 0 or 1\n",
    "        processed_text = torch.tensor(encode_line(_text), dtype=torch.int64)\n",
    "        text_list.append(processed_text)\n",
    "        offsets.append(processed_text.size(0))\n",
    "    label_list = torch.tensor(label_list, dtype=torch.int64)\n",
    "    text_list = torch.cat(text_list)\n",
    "    offsets = torch.tensor(offsets[:-1]).cumsum(dim=0)\n",
    "    return label_list, text_list, offsets"
   ]
  },
  {
   "cell_type": "code",
   "execution_count": 9,
   "id": "f54ec3df-5430-4d61-ba6a-3ab5b7a76a28",
   "metadata": {},
   "outputs": [],
   "source": [
    "train_iter = IMDB(split='train')\n",
    "train_loader = DataLoader(list(train_iter), batch_size=8, shuffle=True, collate_fn=collate_batch)\n",
    "\n",
    "test_iter = IMDB(split='test')\n",
    "test_loader = DataLoader(list(test_iter), batch_size=8, shuffle=False, collate_fn=collate_batch)"
   ]
  },
  {
   "cell_type": "markdown",
   "id": "ee19f12b-8149-465b-a49d-3afed7c9b7d7",
   "metadata": {},
   "source": [
    "## MLP with two fully connected layers"
   ]
  },
  {
   "cell_type": "code",
   "execution_count": 10,
   "id": "712af61b-ad16-4ddb-9d83-929e3346d989",
   "metadata": {},
   "outputs": [],
   "source": [
    "class MLP(nn.Module):\n",
    "    def __init__(self, vocab_size, embed_dim, hidden_dim, num_class):\n",
    "        super(MLP, self).__init__()\n",
    "        self.embedding = nn.EmbeddingBag(vocab_size, embed_dim, sparse=True)\n",
    "        self.fc1 = nn.Linear(embed_dim, hidden_dim)  # First fully connected layer (embed_dim -> hidden_dim)\n",
    "        self.fc2 = nn.Linear(hidden_dim, num_class)  # Second fully connected layer (hidden_dim -> num_class)\n",
    "        self.dropout = nn.Dropout(0.1) \n",
    "        \n",
    "    def forward(self, text, offsets):\n",
    "        embedded = self.embedding(text, offsets)\n",
    "        x = F.relu(self.fc1(embedded))  # Apply ReLU activation after fc1\n",
    "        x = self.dropout(x)             # Apply dropout\n",
    "        return self.fc2(x)              # returning output from fc2"
   ]
  },
  {
   "cell_type": "markdown",
   "id": "4bcee402-defa-4048-94e2-f98dfe9561df",
   "metadata": {},
   "source": [
    "## MLP with one FC layer"
   ]
  },
  {
   "cell_type": "code",
   "execution_count": 11,
   "id": "1eb91a02-a916-4efb-a09e-854e130e77dd",
   "metadata": {},
   "outputs": [],
   "source": [
    "class MLP_one_layer(nn.Module):\n",
    "    def __init__(self, vocab_size, embed_dim, num_class):\n",
    "        super(MLP_one_layer, self).__init__()\n",
    "        self.embedding = nn.EmbeddingBag(vocab_size, embed_dim, sparse=True)\n",
    "        self.fc1 = nn.Linear(embed_dim, num_class)  # Only 1 fully connected layer (embed_dim -> num_class)\n",
    "        self.dropout = nn.Dropout(0.1) \n",
    "        \n",
    "    def forward(self, text, offsets):\n",
    "        embedded = self.embedding(text, offsets)\n",
    "        x = F.relu(self.fc1(embedded))  # Apply ReLU activation after fc1\n",
    "        x = self.dropout(x)             # Apply dropout\n",
    "        return x                        # returning output from dropout"
   ]
  },
  {
   "cell_type": "markdown",
   "id": "291005a1-661a-4312-b5be-214e1b729760",
   "metadata": {},
   "source": [
    "# Training and evaluation code\n",
    "\n",
    "The **train_and_evaluate** function trains a model over multiple epochs, evaluates its performance on a test set, and tracks metrics like loss and accuracy, while saving the best-performing model. The **evaluate** function assesses the model's performance on the test set, computing average loss and accuracy."
   ]
  },
  {
   "cell_type": "code",
   "execution_count": 12,
   "id": "8b0ebe50-362b-4242-86b0-9639c50d03a6",
   "metadata": {},
   "outputs": [],
   "source": [
    "# code inspired from ChatGPT\n",
    "def evaluate(model, data_loader, criterion):\n",
    "    model.eval()\n",
    "    total_loss = 0\n",
    "    correct = 0\n",
    "    total = 0\n",
    "\n",
    "    with torch.no_grad():\n",
    "        for labels, texts, offsets in data_loader:\n",
    "            labels = labels.to(device)\n",
    "            texts = texts.to(device)\n",
    "            offsets = offsets.to(device)\n",
    "            \n",
    "            output = model(texts, offsets)\n",
    "            loss = criterion(output, labels)\n",
    "\n",
    "            predicted_classes = output.argmax(dim=1)\n",
    "            correct += (predicted_classes == labels).sum().item()\n",
    "            total += labels.size(0)\n",
    "            total_loss += loss.item()\n",
    "\n",
    "    avg_loss = total_loss / len(data_loader)\n",
    "    accuracy = correct / total * 100\n",
    "    return avg_loss, accuracy"
   ]
  },
  {
   "cell_type": "code",
   "execution_count": 13,
   "id": "6ed50516-1354-472b-91ac-a7300a31504d",
   "metadata": {},
   "outputs": [],
   "source": [
    "# code inspired from ChatGPT\n",
    "def train_and_evaluate(model, train_loader, test_loader, optimizer, criterion, epochs=5, save_path='best_model.pth'):\n",
    "    device = torch.device('cuda' if torch.cuda.is_available() else 'cpu')\n",
    "    model.to(device)\n",
    "    train_losses = []\n",
    "    test_losses = []\n",
    "    test_accuracies = []\n",
    "    train_accuracies = []\n",
    "\n",
    "    best_accuracy = 0.0  # Initialize to track the best accuracy\n",
    "    best_loss = float('inf')  # Optionally track the best loss instead\n",
    "\n",
    "    for epoch in range(epochs):\n",
    "        model.train()\n",
    "        total_loss = 0\n",
    "        correct_train = 0\n",
    "        total_train = 0\n",
    "\n",
    "        # Training loop with progress bar\n",
    "        progress_bar = tqdm(train_loader, desc=f\"Epoch {epoch + 1}/{epochs}\", leave=False)\n",
    "\n",
    "        for labels, texts, offsets in progress_bar:\n",
    "            optimizer.zero_grad()\n",
    "\n",
    "            labels = labels.to(device)\n",
    "            texts = texts.to(device)\n",
    "            offsets = offsets.to(device)\n",
    "\n",
    "            output = model(texts, offsets)\n",
    "            loss = criterion(output, labels)\n",
    "\n",
    "            loss.backward()\n",
    "            optimizer.step()\n",
    "\n",
    "            total_loss += loss.item()\n",
    "            \n",
    "            # Compute training accuracy\n",
    "            _, predicted = torch.max(output, 1)\n",
    "            correct_train += (predicted == labels).sum().item()\n",
    "            total_train += labels.size(0)\n",
    "\n",
    "            progress_bar.set_postfix(loss=total_loss / len(train_loader))\n",
    "\n",
    "        avg_train_loss = total_loss / len(train_loader)\n",
    "        avg_train_accuracy = (correct_train / total_train) * 100\n",
    "        train_losses.append(avg_train_loss)\n",
    "        train_accuracies.append(avg_train_accuracy)\n",
    "\n",
    "        # Evaluate the model on the test set after each epoch\n",
    "        test_loss, test_accuracy = evaluate(model, test_loader, criterion)\n",
    "        test_losses.append(test_loss)\n",
    "        test_accuracies.append(test_accuracy)\n",
    "\n",
    "        print(f\"Epoch {epoch + 1}/{epochs}, Train Loss: {avg_train_loss:.4f}, Train Accuracy: {avg_train_accuracy:.2f}%, Test Loss: {test_loss:.4f}, Test Accuracy: {test_accuracy:.2f}%\")\n",
    "\n",
    "        # Save the model if test accuracy improves\n",
    "        if test_accuracy > best_accuracy:\n",
    "            best_accuracy = test_accuracy\n",
    "            torch.save(model.state_dict(), save_path)\n",
    "            print(f\"Best model saved at epoch {epoch + 1} with Test Accuracy: {test_accuracy:.2f}%\")\n",
    "\n",
    "    return train_losses, train_accuracies, test_losses, test_accuracies"
   ]
  },
  {
   "cell_type": "code",
   "execution_count": 14,
   "id": "dcf88ced-3073-446e-8bb2-1655d588390b",
   "metadata": {},
   "outputs": [],
   "source": [
    "# Function for plotting test set loss and accuracy curves\n",
    "def plot_mlp_results(test_acc, test_loss, num_layer, inter_dim):\n",
    "    epochs = range(1, len(test_loss) + 1)\n",
    "    plt.figure(figsize=(12, 5))\n",
    "\n",
    "    # Plot for Test Accuracy\n",
    "    plt.subplot(1, 2, 1)\n",
    "    plt.plot(epochs, test_acc, label='Test Accuracy', marker='o')\n",
    "    plt.title(f'Test Accuracy for: {num_layer} layer MLP, intermediate dim = {inter_dim}')  \n",
    "    plt.xlabel('Epochs')\n",
    "    plt.ylabel('Accuracy (%)')\n",
    "    plt.grid(True)\n",
    "    plt.legend()\n",
    "\n",
    "    # Plot for Test Loss\n",
    "    plt.subplot(1, 2, 2)\n",
    "    plt.plot(epochs, test_loss, label='Test Loss', color='red', marker='o')\n",
    "    plt.title(f'Test Loss for: {num_layer} layer MLP, intermediate dim = {inter_dim}')\n",
    "    plt.xlabel('Epochs')\n",
    "    plt.ylabel('Loss')\n",
    "    plt.grid(True)\n",
    "    plt.legend()\n",
    "\n",
    "    plt.tight_layout()\n",
    "    plt.show()"
   ]
  },
  {
   "cell_type": "markdown",
   "id": "657a6931-c7b0-4471-9383-d1f63f19d0d7",
   "metadata": {},
   "source": [
    "## Training with 2 layer MLP, with intermediate layer dim = 100\n",
    "\n",
    "**Hyperparameters used:** \n",
    "1. Embedding Dimension: 2048\n",
    "2. Hidden Dimension: 100\n",
    "3. Number of Classes: 2 \n",
    "4. Learning Rate: 0.001\n",
    "5. Optimizer: Stochastic Gradient Descent (SGD)\n",
    "6. Epochs: 40\n",
    "7. Learning rate: 0.001\n",
    "\n",
    "**Why It Works Well:**\n",
    "The choice of a high embedding dimension (2048) allows the model to capture rich textual features, while a moderate hidden dimension (100) provides a balance between model capacity and generalization. Also most of the reviews have large paragraphs with multiple sentences, so a high embedding dimension seems appropriate. The SGD optimizer with a learning rate of 0.001 ensures stable convergence, and evaluating the model over 40 epochs allows adequate training to optimize performance."
   ]
  },
  {
   "cell_type": "code",
   "execution_count": 14,
   "id": "2ab84727-8174-4b05-b45c-991a7bdf6613",
   "metadata": {},
   "outputs": [
    {
     "data": {
      "text/plain": [
       "MLP(\n",
       "  (embedding): EmbeddingBag(280617, 2048, mode='mean')\n",
       "  (fc1): Linear(in_features=2048, out_features=100, bias=True)\n",
       "  (fc2): Linear(in_features=100, out_features=2, bias=True)\n",
       "  (dropout): Dropout(p=0.1, inplace=False)\n",
       ")"
      ]
     },
     "execution_count": 14,
     "metadata": {},
     "output_type": "execute_result"
    }
   ],
   "source": [
    "# Initialize model, optimizer, and loss function\n",
    "vocab_size = len(vocab)\n",
    "embed_dim = 2048\n",
    "hidden_dim = 100\n",
    "num_class = 2  # Positive or Negative\n",
    "\n",
    "# Initialize model\n",
    "model_l2_dim_100 = MLP(vocab_size, embed_dim, hidden_dim, num_class)\n",
    "\n",
    "device = torch.device('cuda' if torch.cuda.is_available() else 'cpu')  # Check if CUDA is available\n",
    "model_l2_dim_100.to(device)"
   ]
  },
  {
   "cell_type": "code",
   "execution_count": 16,
   "id": "6e4fc1d0-1d97-4dee-85cf-751d621bca1c",
   "metadata": {},
   "outputs": [
    {
     "name": "stderr",
     "output_type": "stream",
     "text": [
      "                                                                                                                       \r"
     ]
    },
    {
     "name": "stdout",
     "output_type": "stream",
     "text": [
      "Epoch 1/40, Train Loss: 0.6874, Train Accuracy: 57.16%, Test Loss: 0.6809, Test Accuracy: 61.33%\n",
      "Best model saved at epoch 1 with Test Accuracy: 61.33%\n"
     ]
    },
    {
     "name": "stderr",
     "output_type": "stream",
     "text": [
      "                                                                                                                       \r"
     ]
    },
    {
     "name": "stdout",
     "output_type": "stream",
     "text": [
      "Epoch 2/40, Train Loss: 0.6735, Train Accuracy: 63.07%, Test Loss: 0.6646, Test Accuracy: 65.38%\n",
      "Best model saved at epoch 2 with Test Accuracy: 65.38%\n"
     ]
    },
    {
     "name": "stderr",
     "output_type": "stream",
     "text": [
      "                                                                                                                       \r"
     ]
    },
    {
     "name": "stdout",
     "output_type": "stream",
     "text": [
      "Epoch 3/40, Train Loss: 0.6549, Train Accuracy: 65.59%, Test Loss: 0.6431, Test Accuracy: 66.79%\n",
      "Best model saved at epoch 3 with Test Accuracy: 66.79%\n"
     ]
    },
    {
     "name": "stderr",
     "output_type": "stream",
     "text": [
      "                                                                                                                       \r"
     ]
    },
    {
     "name": "stdout",
     "output_type": "stream",
     "text": [
      "Epoch 4/40, Train Loss: 0.6328, Train Accuracy: 67.40%, Test Loss: 0.6198, Test Accuracy: 68.37%\n",
      "Best model saved at epoch 4 with Test Accuracy: 68.37%\n"
     ]
    },
    {
     "name": "stderr",
     "output_type": "stream",
     "text": [
      "                                                                                                                       \r"
     ]
    },
    {
     "name": "stdout",
     "output_type": "stream",
     "text": [
      "Epoch 5/40, Train Loss: 0.6101, Train Accuracy: 69.38%, Test Loss: 0.5965, Test Accuracy: 70.17%\n",
      "Best model saved at epoch 5 with Test Accuracy: 70.17%\n"
     ]
    },
    {
     "name": "stderr",
     "output_type": "stream",
     "text": [
      "                                                                                                                       \r"
     ]
    },
    {
     "name": "stdout",
     "output_type": "stream",
     "text": [
      "Epoch 6/40, Train Loss: 0.5875, Train Accuracy: 71.23%, Test Loss: 0.5744, Test Accuracy: 71.90%\n",
      "Best model saved at epoch 6 with Test Accuracy: 71.90%\n"
     ]
    },
    {
     "name": "stderr",
     "output_type": "stream",
     "text": [
      "                                                                                                                       \r"
     ]
    },
    {
     "name": "stdout",
     "output_type": "stream",
     "text": [
      "Epoch 7/40, Train Loss: 0.5651, Train Accuracy: 72.84%, Test Loss: 0.5520, Test Accuracy: 73.81%\n",
      "Best model saved at epoch 7 with Test Accuracy: 73.81%\n"
     ]
    },
    {
     "name": "stderr",
     "output_type": "stream",
     "text": [
      "                                                                                                                       \r"
     ]
    },
    {
     "name": "stdout",
     "output_type": "stream",
     "text": [
      "Epoch 8/40, Train Loss: 0.5449, Train Accuracy: 74.30%, Test Loss: 0.5331, Test Accuracy: 75.09%\n",
      "Best model saved at epoch 8 with Test Accuracy: 75.09%\n"
     ]
    },
    {
     "name": "stderr",
     "output_type": "stream",
     "text": [
      "                                                                                                                       \r"
     ]
    },
    {
     "name": "stdout",
     "output_type": "stream",
     "text": [
      "Epoch 9/40, Train Loss: 0.5262, Train Accuracy: 75.41%, Test Loss: 0.5158, Test Accuracy: 76.04%\n",
      "Best model saved at epoch 9 with Test Accuracy: 76.04%\n"
     ]
    },
    {
     "name": "stderr",
     "output_type": "stream",
     "text": [
      "                                                                                                                       \r"
     ]
    },
    {
     "name": "stdout",
     "output_type": "stream",
     "text": [
      "Epoch 10/40, Train Loss: 0.5096, Train Accuracy: 76.71%, Test Loss: 0.5033, Test Accuracy: 76.80%\n",
      "Best model saved at epoch 10 with Test Accuracy: 76.80%\n"
     ]
    },
    {
     "name": "stderr",
     "output_type": "stream",
     "text": [
      "                                                                                                                       \r"
     ]
    },
    {
     "name": "stdout",
     "output_type": "stream",
     "text": [
      "Epoch 11/40, Train Loss: 0.4961, Train Accuracy: 77.38%, Test Loss: 0.4890, Test Accuracy: 77.64%\n",
      "Best model saved at epoch 11 with Test Accuracy: 77.64%\n"
     ]
    },
    {
     "name": "stderr",
     "output_type": "stream",
     "text": [
      "                                                                                                                       \r"
     ]
    },
    {
     "name": "stdout",
     "output_type": "stream",
     "text": [
      "Epoch 12/40, Train Loss: 0.4834, Train Accuracy: 78.15%, Test Loss: 0.4783, Test Accuracy: 78.21%\n",
      "Best model saved at epoch 12 with Test Accuracy: 78.21%\n"
     ]
    },
    {
     "name": "stderr",
     "output_type": "stream",
     "text": [
      "                                                                                                                       \r"
     ]
    },
    {
     "name": "stdout",
     "output_type": "stream",
     "text": [
      "Epoch 13/40, Train Loss: 0.4719, Train Accuracy: 78.78%, Test Loss: 0.4701, Test Accuracy: 78.58%\n",
      "Best model saved at epoch 13 with Test Accuracy: 78.58%\n"
     ]
    },
    {
     "name": "stderr",
     "output_type": "stream",
     "text": [
      "                                                                                                                       \r"
     ]
    },
    {
     "name": "stdout",
     "output_type": "stream",
     "text": [
      "Epoch 14/40, Train Loss: 0.4631, Train Accuracy: 79.33%, Test Loss: 0.4629, Test Accuracy: 78.84%\n",
      "Best model saved at epoch 14 with Test Accuracy: 78.84%\n"
     ]
    },
    {
     "name": "stderr",
     "output_type": "stream",
     "text": [
      "                                                                                                                       \r"
     ]
    },
    {
     "name": "stdout",
     "output_type": "stream",
     "text": [
      "Epoch 15/40, Train Loss: 0.4543, Train Accuracy: 79.86%, Test Loss: 0.4552, Test Accuracy: 79.34%\n",
      "Best model saved at epoch 15 with Test Accuracy: 79.34%\n"
     ]
    },
    {
     "name": "stderr",
     "output_type": "stream",
     "text": [
      "                                                                                                                       \r"
     ]
    },
    {
     "name": "stdout",
     "output_type": "stream",
     "text": [
      "Epoch 16/40, Train Loss: 0.4476, Train Accuracy: 79.92%, Test Loss: 0.4489, Test Accuracy: 79.54%\n",
      "Best model saved at epoch 16 with Test Accuracy: 79.54%\n"
     ]
    },
    {
     "name": "stderr",
     "output_type": "stream",
     "text": [
      "                                                                                                                       \r"
     ]
    },
    {
     "name": "stdout",
     "output_type": "stream",
     "text": [
      "Epoch 17/40, Train Loss: 0.4403, Train Accuracy: 80.61%, Test Loss: 0.4440, Test Accuracy: 79.88%\n",
      "Best model saved at epoch 17 with Test Accuracy: 79.88%\n"
     ]
    },
    {
     "name": "stderr",
     "output_type": "stream",
     "text": [
      "                                                                                                                       \r"
     ]
    },
    {
     "name": "stdout",
     "output_type": "stream",
     "text": [
      "Epoch 18/40, Train Loss: 0.4335, Train Accuracy: 80.83%, Test Loss: 0.4395, Test Accuracy: 80.17%\n",
      "Best model saved at epoch 18 with Test Accuracy: 80.17%\n"
     ]
    },
    {
     "name": "stderr",
     "output_type": "stream",
     "text": [
      "                                                                                                                       \r"
     ]
    },
    {
     "name": "stdout",
     "output_type": "stream",
     "text": [
      "Epoch 19/40, Train Loss: 0.4275, Train Accuracy: 80.97%, Test Loss: 0.4349, Test Accuracy: 80.32%\n",
      "Best model saved at epoch 19 with Test Accuracy: 80.32%\n"
     ]
    },
    {
     "name": "stderr",
     "output_type": "stream",
     "text": [
      "                                                                                                                       \r"
     ]
    },
    {
     "name": "stdout",
     "output_type": "stream",
     "text": [
      "Epoch 20/40, Train Loss: 0.4223, Train Accuracy: 81.39%, Test Loss: 0.4343, Test Accuracy: 80.38%\n",
      "Best model saved at epoch 20 with Test Accuracy: 80.38%\n"
     ]
    },
    {
     "name": "stderr",
     "output_type": "stream",
     "text": [
      "                                                                                                                       \r"
     ]
    },
    {
     "name": "stdout",
     "output_type": "stream",
     "text": [
      "Epoch 21/40, Train Loss: 0.4170, Train Accuracy: 81.67%, Test Loss: 0.4278, Test Accuracy: 80.72%\n",
      "Best model saved at epoch 21 with Test Accuracy: 80.72%\n"
     ]
    },
    {
     "name": "stderr",
     "output_type": "stream",
     "text": [
      "                                                                                                                       \r"
     ]
    },
    {
     "name": "stdout",
     "output_type": "stream",
     "text": [
      "Epoch 22/40, Train Loss: 0.4135, Train Accuracy: 81.84%, Test Loss: 0.4265, Test Accuracy: 80.66%\n"
     ]
    },
    {
     "name": "stderr",
     "output_type": "stream",
     "text": [
      "                                                                                                                       \r"
     ]
    },
    {
     "name": "stdout",
     "output_type": "stream",
     "text": [
      "Epoch 23/40, Train Loss: 0.4085, Train Accuracy: 82.02%, Test Loss: 0.4230, Test Accuracy: 80.84%\n",
      "Best model saved at epoch 23 with Test Accuracy: 80.84%\n"
     ]
    },
    {
     "name": "stderr",
     "output_type": "stream",
     "text": [
      "                                                                                                                       \r"
     ]
    },
    {
     "name": "stdout",
     "output_type": "stream",
     "text": [
      "Epoch 24/40, Train Loss: 0.4053, Train Accuracy: 82.14%, Test Loss: 0.4204, Test Accuracy: 80.88%\n",
      "Best model saved at epoch 24 with Test Accuracy: 80.88%\n"
     ]
    },
    {
     "name": "stderr",
     "output_type": "stream",
     "text": [
      "                                                                                                                       \r"
     ]
    },
    {
     "name": "stdout",
     "output_type": "stream",
     "text": [
      "Epoch 25/40, Train Loss: 0.4008, Train Accuracy: 82.30%, Test Loss: 0.4217, Test Accuracy: 80.71%\n"
     ]
    },
    {
     "name": "stderr",
     "output_type": "stream",
     "text": [
      "                                                                                                                       \r"
     ]
    },
    {
     "name": "stdout",
     "output_type": "stream",
     "text": [
      "Epoch 26/40, Train Loss: 0.3973, Train Accuracy: 82.68%, Test Loss: 0.4178, Test Accuracy: 81.15%\n",
      "Best model saved at epoch 26 with Test Accuracy: 81.15%\n"
     ]
    },
    {
     "name": "stderr",
     "output_type": "stream",
     "text": [
      "                                                                                                                       \r"
     ]
    },
    {
     "name": "stdout",
     "output_type": "stream",
     "text": [
      "Epoch 27/40, Train Loss: 0.3944, Train Accuracy: 82.71%, Test Loss: 0.4147, Test Accuracy: 81.27%\n",
      "Best model saved at epoch 27 with Test Accuracy: 81.27%\n"
     ]
    },
    {
     "name": "stderr",
     "output_type": "stream",
     "text": [
      "                                                                                                                       \r"
     ]
    },
    {
     "name": "stdout",
     "output_type": "stream",
     "text": [
      "Epoch 28/40, Train Loss: 0.3915, Train Accuracy: 82.91%, Test Loss: 0.4135, Test Accuracy: 81.40%\n",
      "Best model saved at epoch 28 with Test Accuracy: 81.40%\n"
     ]
    },
    {
     "name": "stderr",
     "output_type": "stream",
     "text": [
      "                                                                                                                       \r"
     ]
    },
    {
     "name": "stdout",
     "output_type": "stream",
     "text": [
      "Epoch 29/40, Train Loss: 0.3900, Train Accuracy: 82.99%, Test Loss: 0.4122, Test Accuracy: 81.39%\n"
     ]
    },
    {
     "name": "stderr",
     "output_type": "stream",
     "text": [
      "                                                                                                                       \r"
     ]
    },
    {
     "name": "stdout",
     "output_type": "stream",
     "text": [
      "Epoch 30/40, Train Loss: 0.3866, Train Accuracy: 83.09%, Test Loss: 0.4107, Test Accuracy: 81.41%\n",
      "Best model saved at epoch 30 with Test Accuracy: 81.41%\n"
     ]
    },
    {
     "name": "stderr",
     "output_type": "stream",
     "text": [
      "                                                                                                                       \r"
     ]
    },
    {
     "name": "stdout",
     "output_type": "stream",
     "text": [
      "Epoch 31/40, Train Loss: 0.3847, Train Accuracy: 83.15%, Test Loss: 0.4097, Test Accuracy: 81.54%\n",
      "Best model saved at epoch 31 with Test Accuracy: 81.54%\n"
     ]
    },
    {
     "name": "stderr",
     "output_type": "stream",
     "text": [
      "                                                                                                                       \r"
     ]
    },
    {
     "name": "stdout",
     "output_type": "stream",
     "text": [
      "Epoch 32/40, Train Loss: 0.3808, Train Accuracy: 83.30%, Test Loss: 0.4092, Test Accuracy: 81.42%\n"
     ]
    },
    {
     "name": "stderr",
     "output_type": "stream",
     "text": [
      "                                                                                                                       \r"
     ]
    },
    {
     "name": "stdout",
     "output_type": "stream",
     "text": [
      "Epoch 33/40, Train Loss: 0.3793, Train Accuracy: 83.51%, Test Loss: 0.4089, Test Accuracy: 81.40%\n"
     ]
    },
    {
     "name": "stderr",
     "output_type": "stream",
     "text": [
      "                                                                                                                       \r"
     ]
    },
    {
     "name": "stdout",
     "output_type": "stream",
     "text": [
      "Epoch 34/40, Train Loss: 0.3762, Train Accuracy: 83.42%, Test Loss: 0.4074, Test Accuracy: 81.56%\n",
      "Best model saved at epoch 34 with Test Accuracy: 81.56%\n"
     ]
    },
    {
     "name": "stderr",
     "output_type": "stream",
     "text": [
      "                                                                                                                       \r"
     ]
    },
    {
     "name": "stdout",
     "output_type": "stream",
     "text": [
      "Epoch 35/40, Train Loss: 0.3743, Train Accuracy: 83.70%, Test Loss: 0.4125, Test Accuracy: 81.09%\n"
     ]
    },
    {
     "name": "stderr",
     "output_type": "stream",
     "text": [
      "                                                                                                                       \r"
     ]
    },
    {
     "name": "stdout",
     "output_type": "stream",
     "text": [
      "Epoch 36/40, Train Loss: 0.3732, Train Accuracy: 83.67%, Test Loss: 0.4138, Test Accuracy: 81.29%\n"
     ]
    },
    {
     "name": "stderr",
     "output_type": "stream",
     "text": [
      "                                                                                                                       \r"
     ]
    },
    {
     "name": "stdout",
     "output_type": "stream",
     "text": [
      "Epoch 37/40, Train Loss: 0.3719, Train Accuracy: 83.74%, Test Loss: 0.4064, Test Accuracy: 81.61%\n",
      "Best model saved at epoch 37 with Test Accuracy: 81.61%\n"
     ]
    },
    {
     "name": "stderr",
     "output_type": "stream",
     "text": [
      "                                                                                                                       \r"
     ]
    },
    {
     "name": "stdout",
     "output_type": "stream",
     "text": [
      "Epoch 38/40, Train Loss: 0.3696, Train Accuracy: 83.82%, Test Loss: 0.4054, Test Accuracy: 81.66%\n",
      "Best model saved at epoch 38 with Test Accuracy: 81.66%\n"
     ]
    },
    {
     "name": "stderr",
     "output_type": "stream",
     "text": [
      "                                                                                                                       \r"
     ]
    },
    {
     "name": "stdout",
     "output_type": "stream",
     "text": [
      "Epoch 39/40, Train Loss: 0.3673, Train Accuracy: 84.03%, Test Loss: 0.4051, Test Accuracy: 81.71%\n",
      "Best model saved at epoch 39 with Test Accuracy: 81.71%\n"
     ]
    },
    {
     "name": "stderr",
     "output_type": "stream",
     "text": [
      "                                                                                                                       \r"
     ]
    },
    {
     "name": "stdout",
     "output_type": "stream",
     "text": [
      "Epoch 40/40, Train Loss: 0.3652, Train Accuracy: 83.91%, Test Loss: 0.4043, Test Accuracy: 81.76%\n",
      "Best model saved at epoch 40 with Test Accuracy: 81.76%\n"
     ]
    }
   ],
   "source": [
    "sgd_optimizer = optim.SGD(model_l2_dim_100.parameters(), lr=0.001)\n",
    "\n",
    "criterion = nn.CrossEntropyLoss()\n",
    "train_loss_l2_dim_100, train_acc_l2_dim_100, test_loss_l2_dim_100, test_acc_l2_dim_100 = train_and_evaluate(\n",
    "    model_l2_dim_100, train_loader, test_loader, sgd_optimizer, criterion, epochs=40, save_path='best_model_l2_dim_100.pth'\n",
    ")"
   ]
  },
  {
   "cell_type": "markdown",
   "id": "6fca8389-8a02-4d58-b6ce-f80a32a8f4ab",
   "metadata": {},
   "source": [
    "## Test loss and accuracy curves for 2 layer MLP, intermediate dim = 100"
   ]
  },
  {
   "cell_type": "markdown",
   "id": "6163a220-e567-4255-9aa1-79cbbc9c6b34",
   "metadata": {},
   "source": [
    "#### Best Test set accuracy: 81.76%\n",
    "Achieved at epoch 40 using **2 layer MLP** and **intermediate layer dimension = 100**"
   ]
  },
  {
   "cell_type": "code",
   "execution_count": 20,
   "id": "1128dd80-75e5-4c6f-a41e-52a3b5903cd5",
   "metadata": {},
   "outputs": [
    {
     "data": {
      "image/png": "[encoded data removed]",
      "text/plain": [
       "<Figure size 1200x500 with 2 Axes>"
      ]
     },
     "metadata": {},
     "output_type": "display_data"
    }
   ],
   "source": [
    "plot_mlp_results(test_acc_l2_dim_100, test_loss_l2_dim_100, 2, 100)"
   ]
  },
  {
   "cell_type": "markdown",
   "id": "13931edb-401c-4e3a-9ae3-9968af937030",
   "metadata": {},
   "source": [
    "## Training with 2 layer MLP, with intermediate layer dim = 200\n",
    "\n",
    "**Hyperparameters used:** \n",
    "1. Embedding Dimension: 2048\n",
    "2. Hidden Dimension: **200**\n",
    "3. Number of Classes: 2 \n",
    "4. Learning Rate: 0.001\n",
    "5. Optimizer: Stochastic Gradient Descent (SGD)\n",
    "6. Epochs: 40\n",
    "7. Learning rate: 0.001"
   ]
  },
  {
   "cell_type": "code",
   "execution_count": 16,
   "id": "c6d3fab4-fbdf-418b-8d7d-dbce72ab5fbc",
   "metadata": {},
   "outputs": [
    {
     "data": {
      "text/plain": [
       "MLP(\n",
       "  (embedding): EmbeddingBag(280617, 2048, mode='mean')\n",
       "  (fc1): Linear(in_features=2048, out_features=200, bias=True)\n",
       "  (fc2): Linear(in_features=200, out_features=2, bias=True)\n",
       "  (dropout): Dropout(p=0.1, inplace=False)\n",
       ")"
      ]
     },
     "execution_count": 16,
     "metadata": {},
     "output_type": "execute_result"
    }
   ],
   "source": [
    "# Initialize model, optimizer, and loss function\n",
    "vocab_size = len(vocab)\n",
    "embed_dim = 2048\n",
    "hidden_dim = 200\n",
    "num_class = 2  # Positive or Negative\n",
    "\n",
    "# Initialize model\n",
    "model_l2_dim_200 = MLP(vocab_size, embed_dim, hidden_dim, num_class)\n",
    "\n",
    "device = torch.device('cuda' if torch.cuda.is_available() else 'cpu')  # Check if CUDA is available\n",
    "model_l2_dim_200.to(device)"
   ]
  },
  {
   "cell_type": "code",
   "execution_count": 18,
   "id": "a8e5b417-bff5-4a65-ac6b-d29ad5772f1e",
   "metadata": {},
   "outputs": [
    {
     "name": "stderr",
     "output_type": "stream",
     "text": [
      "                                                                                                                       \r"
     ]
    },
    {
     "name": "stdout",
     "output_type": "stream",
     "text": [
      "Epoch 1/40, Train Loss: 0.6897, Train Accuracy: 55.00%, Test Loss: 0.6836, Test Accuracy: 63.41%\n",
      "Best model saved at epoch 1 with Test Accuracy: 63.41%\n"
     ]
    },
    {
     "name": "stderr",
     "output_type": "stream",
     "text": [
      "                                                                                                                       \r"
     ]
    },
    {
     "name": "stdout",
     "output_type": "stream",
     "text": [
      "Epoch 2/40, Train Loss: 0.6759, Train Accuracy: 64.09%, Test Loss: 0.6671, Test Accuracy: 63.64%\n",
      "Best model saved at epoch 2 with Test Accuracy: 63.64%\n"
     ]
    },
    {
     "name": "stderr",
     "output_type": "stream",
     "text": [
      "                                                                                                                       \r"
     ]
    },
    {
     "name": "stdout",
     "output_type": "stream",
     "text": [
      "Epoch 3/40, Train Loss: 0.6568, Train Accuracy: 65.32%, Test Loss: 0.6456, Test Accuracy: 66.38%\n",
      "Best model saved at epoch 3 with Test Accuracy: 66.38%\n"
     ]
    },
    {
     "name": "stderr",
     "output_type": "stream",
     "text": [
      "                                                                                                                       \r"
     ]
    },
    {
     "name": "stdout",
     "output_type": "stream",
     "text": [
      "Epoch 4/40, Train Loss: 0.6344, Train Accuracy: 67.34%, Test Loss: 0.6228, Test Accuracy: 67.98%\n",
      "Best model saved at epoch 4 with Test Accuracy: 67.98%\n"
     ]
    },
    {
     "name": "stderr",
     "output_type": "stream",
     "text": [
      "                                                                                                                       \r"
     ]
    },
    {
     "name": "stdout",
     "output_type": "stream",
     "text": [
      "Epoch 5/40, Train Loss: 0.6126, Train Accuracy: 69.00%, Test Loss: 0.6007, Test Accuracy: 69.69%\n",
      "Best model saved at epoch 5 with Test Accuracy: 69.69%\n"
     ]
    },
    {
     "name": "stderr",
     "output_type": "stream",
     "text": [
      "                                                                                                                       \r"
     ]
    },
    {
     "name": "stdout",
     "output_type": "stream",
     "text": [
      "Epoch 6/40, Train Loss: 0.5912, Train Accuracy: 70.63%, Test Loss: 0.5790, Test Accuracy: 71.55%\n",
      "Best model saved at epoch 6 with Test Accuracy: 71.55%\n"
     ]
    },
    {
     "name": "stderr",
     "output_type": "stream",
     "text": [
      "                                                                                                                       \r"
     ]
    },
    {
     "name": "stdout",
     "output_type": "stream",
     "text": [
      "Epoch 7/40, Train Loss: 0.5705, Train Accuracy: 72.28%, Test Loss: 0.5589, Test Accuracy: 73.06%\n",
      "Best model saved at epoch 7 with Test Accuracy: 73.06%\n"
     ]
    },
    {
     "name": "stderr",
     "output_type": "stream",
     "text": [
      "                                                                                                                       \r"
     ]
    },
    {
     "name": "stdout",
     "output_type": "stream",
     "text": [
      "Epoch 8/40, Train Loss: 0.5514, Train Accuracy: 73.64%, Test Loss: 0.5395, Test Accuracy: 74.47%\n",
      "Best model saved at epoch 8 with Test Accuracy: 74.47%\n"
     ]
    },
    {
     "name": "stderr",
     "output_type": "stream",
     "text": [
      "                                                                                                                       \r"
     ]
    },
    {
     "name": "stdout",
     "output_type": "stream",
     "text": [
      "Epoch 9/40, Train Loss: 0.5335, Train Accuracy: 74.96%, Test Loss: 0.5232, Test Accuracy: 75.31%\n",
      "Best model saved at epoch 9 with Test Accuracy: 75.31%\n"
     ]
    },
    {
     "name": "stderr",
     "output_type": "stream",
     "text": [
      "                                                                                                                       \r"
     ]
    },
    {
     "name": "stdout",
     "output_type": "stream",
     "text": [
      "Epoch 10/40, Train Loss: 0.5167, Train Accuracy: 76.10%, Test Loss: 0.5115, Test Accuracy: 75.72%\n",
      "Best model saved at epoch 10 with Test Accuracy: 75.72%\n"
     ]
    },
    {
     "name": "stderr",
     "output_type": "stream",
     "text": [
      "                                                                                                                       \r"
     ]
    },
    {
     "name": "stdout",
     "output_type": "stream",
     "text": [
      "Epoch 11/40, Train Loss: 0.5023, Train Accuracy: 76.82%, Test Loss: 0.4942, Test Accuracy: 77.11%\n",
      "Best model saved at epoch 11 with Test Accuracy: 77.11%\n"
     ]
    },
    {
     "name": "stderr",
     "output_type": "stream",
     "text": [
      "                                                                                                                       \r"
     ]
    },
    {
     "name": "stdout",
     "output_type": "stream",
     "text": [
      "Epoch 12/40, Train Loss: 0.4896, Train Accuracy: 77.64%, Test Loss: 0.4835, Test Accuracy: 77.68%\n",
      "Best model saved at epoch 12 with Test Accuracy: 77.68%\n"
     ]
    },
    {
     "name": "stderr",
     "output_type": "stream",
     "text": [
      "                                                                                                                       \r"
     ]
    },
    {
     "name": "stdout",
     "output_type": "stream",
     "text": [
      "Epoch 13/40, Train Loss: 0.4777, Train Accuracy: 78.47%, Test Loss: 0.4728, Test Accuracy: 78.26%\n",
      "Best model saved at epoch 13 with Test Accuracy: 78.26%\n"
     ]
    },
    {
     "name": "stderr",
     "output_type": "stream",
     "text": [
      "                                                                                                                       \r"
     ]
    },
    {
     "name": "stdout",
     "output_type": "stream",
     "text": [
      "Epoch 14/40, Train Loss: 0.4674, Train Accuracy: 78.88%, Test Loss: 0.4645, Test Accuracy: 78.71%\n",
      "Best model saved at epoch 14 with Test Accuracy: 78.71%\n"
     ]
    },
    {
     "name": "stderr",
     "output_type": "stream",
     "text": [
      "                                                                                                                       \r"
     ]
    },
    {
     "name": "stdout",
     "output_type": "stream",
     "text": [
      "Epoch 15/40, Train Loss: 0.4593, Train Accuracy: 79.26%, Test Loss: 0.4567, Test Accuracy: 79.14%\n",
      "Best model saved at epoch 15 with Test Accuracy: 79.14%\n"
     ]
    },
    {
     "name": "stderr",
     "output_type": "stream",
     "text": [
      "                                                                                                                       \r"
     ]
    },
    {
     "name": "stdout",
     "output_type": "stream",
     "text": [
      "Epoch 16/40, Train Loss: 0.4509, Train Accuracy: 79.56%, Test Loss: 0.4505, Test Accuracy: 79.42%\n",
      "Best model saved at epoch 16 with Test Accuracy: 79.42%\n"
     ]
    },
    {
     "name": "stderr",
     "output_type": "stream",
     "text": [
      "                                                                                                                       \r"
     ]
    },
    {
     "name": "stdout",
     "output_type": "stream",
     "text": [
      "Epoch 17/40, Train Loss: 0.4443, Train Accuracy: 80.07%, Test Loss: 0.4447, Test Accuracy: 79.80%\n",
      "Best model saved at epoch 17 with Test Accuracy: 79.80%\n"
     ]
    },
    {
     "name": "stderr",
     "output_type": "stream",
     "text": [
      "                                                                                                                       \r"
     ]
    },
    {
     "name": "stdout",
     "output_type": "stream",
     "text": [
      "Epoch 18/40, Train Loss: 0.4377, Train Accuracy: 80.35%, Test Loss: 0.4398, Test Accuracy: 79.90%\n",
      "Best model saved at epoch 18 with Test Accuracy: 79.90%\n"
     ]
    },
    {
     "name": "stderr",
     "output_type": "stream",
     "text": [
      "                                                                                                                       \r"
     ]
    },
    {
     "name": "stdout",
     "output_type": "stream",
     "text": [
      "Epoch 19/40, Train Loss: 0.4315, Train Accuracy: 81.02%, Test Loss: 0.4375, Test Accuracy: 80.22%\n",
      "Best model saved at epoch 19 with Test Accuracy: 80.22%\n"
     ]
    },
    {
     "name": "stderr",
     "output_type": "stream",
     "text": [
      "                                                                                                                       \r"
     ]
    },
    {
     "name": "stdout",
     "output_type": "stream",
     "text": [
      "Epoch 20/40, Train Loss: 0.4255, Train Accuracy: 81.14%, Test Loss: 0.4317, Test Accuracy: 80.28%\n",
      "Best model saved at epoch 20 with Test Accuracy: 80.28%\n"
     ]
    },
    {
     "name": "stderr",
     "output_type": "stream",
     "text": [
      "                                                                                                                       \r"
     ]
    },
    {
     "name": "stdout",
     "output_type": "stream",
     "text": [
      "Epoch 21/40, Train Loss: 0.4214, Train Accuracy: 81.26%, Test Loss: 0.4336, Test Accuracy: 80.33%\n",
      "Best model saved at epoch 21 with Test Accuracy: 80.33%\n"
     ]
    },
    {
     "name": "stderr",
     "output_type": "stream",
     "text": [
      "                                                                                                                       \r"
     ]
    },
    {
     "name": "stdout",
     "output_type": "stream",
     "text": [
      "Epoch 22/40, Train Loss: 0.4161, Train Accuracy: 81.56%, Test Loss: 0.4268, Test Accuracy: 80.76%\n",
      "Best model saved at epoch 22 with Test Accuracy: 80.76%\n"
     ]
    },
    {
     "name": "stderr",
     "output_type": "stream",
     "text": [
      "                                                                                                                       \r"
     ]
    },
    {
     "name": "stdout",
     "output_type": "stream",
     "text": [
      "Epoch 23/40, Train Loss: 0.4125, Train Accuracy: 81.55%, Test Loss: 0.4223, Test Accuracy: 80.78%\n",
      "Best model saved at epoch 23 with Test Accuracy: 80.78%\n"
     ]
    },
    {
     "name": "stderr",
     "output_type": "stream",
     "text": [
      "                                                                                                                       \r"
     ]
    },
    {
     "name": "stdout",
     "output_type": "stream",
     "text": [
      "Epoch 24/40, Train Loss: 0.4093, Train Accuracy: 81.86%, Test Loss: 0.4201, Test Accuracy: 80.91%\n",
      "Best model saved at epoch 24 with Test Accuracy: 80.91%\n"
     ]
    },
    {
     "name": "stderr",
     "output_type": "stream",
     "text": [
      "                                                                                                                       \r"
     ]
    },
    {
     "name": "stdout",
     "output_type": "stream",
     "text": [
      "Epoch 25/40, Train Loss: 0.4039, Train Accuracy: 82.07%, Test Loss: 0.4201, Test Accuracy: 81.09%\n",
      "Best model saved at epoch 25 with Test Accuracy: 81.09%\n"
     ]
    },
    {
     "name": "stderr",
     "output_type": "stream",
     "text": [
      "                                                                                                                       \r"
     ]
    },
    {
     "name": "stdout",
     "output_type": "stream",
     "text": [
      "Epoch 26/40, Train Loss: 0.4014, Train Accuracy: 82.37%, Test Loss: 0.4175, Test Accuracy: 81.28%\n",
      "Best model saved at epoch 26 with Test Accuracy: 81.28%\n"
     ]
    },
    {
     "name": "stderr",
     "output_type": "stream",
     "text": [
      "                                                                                                                       \r"
     ]
    },
    {
     "name": "stdout",
     "output_type": "stream",
     "text": [
      "Epoch 27/40, Train Loss: 0.3973, Train Accuracy: 82.37%, Test Loss: 0.4182, Test Accuracy: 81.11%\n"
     ]
    },
    {
     "name": "stderr",
     "output_type": "stream",
     "text": [
      "                                                                                                                       \r"
     ]
    },
    {
     "name": "stdout",
     "output_type": "stream",
     "text": [
      "Epoch 28/40, Train Loss: 0.3945, Train Accuracy: 82.39%, Test Loss: 0.4126, Test Accuracy: 81.44%\n",
      "Best model saved at epoch 28 with Test Accuracy: 81.44%\n"
     ]
    },
    {
     "name": "stderr",
     "output_type": "stream",
     "text": [
      "                                                                                                                       \r"
     ]
    },
    {
     "name": "stdout",
     "output_type": "stream",
     "text": [
      "Epoch 29/40, Train Loss: 0.3923, Train Accuracy: 82.72%, Test Loss: 0.4146, Test Accuracy: 81.28%\n"
     ]
    },
    {
     "name": "stderr",
     "output_type": "stream",
     "text": [
      "                                                                                                                       \r"
     ]
    },
    {
     "name": "stdout",
     "output_type": "stream",
     "text": [
      "Epoch 30/40, Train Loss: 0.3889, Train Accuracy: 82.68%, Test Loss: 0.4117, Test Accuracy: 81.43%\n"
     ]
    },
    {
     "name": "stderr",
     "output_type": "stream",
     "text": [
      "                                                                                                                       \r"
     ]
    },
    {
     "name": "stdout",
     "output_type": "stream",
     "text": [
      "Epoch 31/40, Train Loss: 0.3867, Train Accuracy: 82.84%, Test Loss: 0.4092, Test Accuracy: 81.65%\n",
      "Best model saved at epoch 31 with Test Accuracy: 81.65%\n"
     ]
    },
    {
     "name": "stderr",
     "output_type": "stream",
     "text": [
      "                                                                                                                       \r"
     ]
    },
    {
     "name": "stdout",
     "output_type": "stream",
     "text": [
      "Epoch 32/40, Train Loss: 0.3839, Train Accuracy: 83.08%, Test Loss: 0.4083, Test Accuracy: 81.64%\n"
     ]
    },
    {
     "name": "stderr",
     "output_type": "stream",
     "text": [
      "                                                                                                                       \r"
     ]
    },
    {
     "name": "stdout",
     "output_type": "stream",
     "text": [
      "Epoch 33/40, Train Loss: 0.3818, Train Accuracy: 82.96%, Test Loss: 0.4126, Test Accuracy: 81.41%\n"
     ]
    },
    {
     "name": "stderr",
     "output_type": "stream",
     "text": [
      "                                                                                                                       \r"
     ]
    },
    {
     "name": "stdout",
     "output_type": "stream",
     "text": [
      "Epoch 34/40, Train Loss: 0.3801, Train Accuracy: 83.14%, Test Loss: 0.4082, Test Accuracy: 81.57%\n"
     ]
    },
    {
     "name": "stderr",
     "output_type": "stream",
     "text": [
      "                                                                                                                       \r"
     ]
    },
    {
     "name": "stdout",
     "output_type": "stream",
     "text": [
      "Epoch 35/40, Train Loss: 0.3776, Train Accuracy: 83.36%, Test Loss: 0.4070, Test Accuracy: 81.72%\n",
      "Best model saved at epoch 35 with Test Accuracy: 81.72%\n"
     ]
    },
    {
     "name": "stderr",
     "output_type": "stream",
     "text": [
      "                                                                                                                       \r"
     ]
    },
    {
     "name": "stdout",
     "output_type": "stream",
     "text": [
      "Epoch 36/40, Train Loss: 0.3753, Train Accuracy: 83.52%, Test Loss: 0.4044, Test Accuracy: 81.91%\n",
      "Best model saved at epoch 36 with Test Accuracy: 81.91%\n"
     ]
    },
    {
     "name": "stderr",
     "output_type": "stream",
     "text": [
      "                                                                                                                       \r"
     ]
    },
    {
     "name": "stdout",
     "output_type": "stream",
     "text": [
      "Epoch 37/40, Train Loss: 0.3733, Train Accuracy: 83.58%, Test Loss: 0.4060, Test Accuracy: 81.61%\n"
     ]
    },
    {
     "name": "stderr",
     "output_type": "stream",
     "text": [
      "                                                                                                                       \r"
     ]
    },
    {
     "name": "stdout",
     "output_type": "stream",
     "text": [
      "Epoch 38/40, Train Loss: 0.3710, Train Accuracy: 83.56%, Test Loss: 0.4036, Test Accuracy: 81.90%\n"
     ]
    },
    {
     "name": "stderr",
     "output_type": "stream",
     "text": [
      "                                                                                                                       \r"
     ]
    },
    {
     "name": "stdout",
     "output_type": "stream",
     "text": [
      "Epoch 39/40, Train Loss: 0.3689, Train Accuracy: 83.71%, Test Loss: 0.4067, Test Accuracy: 81.67%\n"
     ]
    },
    {
     "name": "stderr",
     "output_type": "stream",
     "text": [
      "                                                                                                                       \r"
     ]
    },
    {
     "name": "stdout",
     "output_type": "stream",
     "text": [
      "Epoch 40/40, Train Loss: 0.3659, Train Accuracy: 84.03%, Test Loss: 0.4059, Test Accuracy: 81.68%\n"
     ]
    }
   ],
   "source": [
    "sgd_optimizer_2 = optim.SGD(model_l2_dim_200.parameters(), lr=0.001)\n",
    "\n",
    "criterion = nn.CrossEntropyLoss()\n",
    "train_loss_l2_dim_200, train_acc_l2_dim_200, test_loss_l2_dim_200, test_acc_l2_dim_200 = train_and_evaluate(\n",
    "    model_l2_dim_200, train_loader, test_loader, sgd_optimizer_2, criterion, epochs=40, save_path='best_model_l2_dim_200.pth'\n",
    ")"
   ]
  },
  {
   "cell_type": "markdown",
   "id": "1e84d406-5853-4e2f-97c4-1a3e8a619142",
   "metadata": {},
   "source": [
    "## Test accuracy and test accuracy curves for 2 layer MLP, intermediate dim = 200"
   ]
  },
  {
   "cell_type": "code",
   "execution_count": 19,
   "id": "2d3cb651-756b-45cd-8c77-8edcb6a21ff5",
   "metadata": {},
   "outputs": [
    {
     "data": {
      "image/png": "[encoded data removed]",
      "text/plain": [
       "<Figure size 1200x500 with 2 Axes>"
      ]
     },
     "metadata": {},
     "output_type": "display_data"
    }
   ],
   "source": [
    "plot_mlp_results(test_acc_l2_dim_200, test_loss_l2_dim_200, 2, 200)"
   ]
  },
  {
   "cell_type": "markdown",
   "id": "0771b45c-cc80-408b-8baf-2c652e7a4ac4",
   "metadata": {},
   "source": [
    "#### Best Test set accuracy: 81.91%\n",
    "Achieved at epoch 36 using **2 layer MLP** and **intermediate layer dimension = 200**\n"
   ]
  },
  {
   "cell_type": "markdown",
   "id": "426dfa68-768d-4cd5-bc32-e5b7dd103980",
   "metadata": {},
   "source": [
    "## Training with 1 layer MLP\n",
    "\n",
    "**Hyperparameters used:** \n",
    "1. Embedding Dimension: 2048\n",
    "2. Number of Classes: 2 \n",
    "3. Learning Rate: 0.001\n",
    "4. Optimizer: Stochastic Gradient Descent (SGD)\n",
    "5. Epochs: 40\n",
    "6. Learning rate: 0.001"
   ]
  },
  {
   "cell_type": "code",
   "execution_count": 15,
   "id": "35bf68c3-b541-4422-b9d4-e87fd3e8d5c6",
   "metadata": {},
   "outputs": [
    {
     "data": {
      "text/plain": [
       "MLP_one_layer(\n",
       "  (embedding): EmbeddingBag(280617, 2048, mode='mean')\n",
       "  (fc1): Linear(in_features=2048, out_features=2, bias=True)\n",
       "  (dropout): Dropout(p=0.1, inplace=False)\n",
       ")"
      ]
     },
     "execution_count": 15,
     "metadata": {},
     "output_type": "execute_result"
    }
   ],
   "source": [
    "# Initialize model, optimizer, and loss function\n",
    "vocab_size = len(vocab)\n",
    "embed_dim = 2048\n",
    "num_class = 2  # Positive or Negative\n",
    "\n",
    "# Initialize model\n",
    "model_l1 = MLP_one_layer(vocab_size, embed_dim, num_class)\n",
    "\n",
    "device = torch.device('cuda' if torch.cuda.is_available() else 'cpu')  # Check if CUDA is available\n",
    "model_l1.to(device)"
   ]
  },
  {
   "cell_type": "code",
   "execution_count": 16,
   "id": "3e43dbaf-4ef7-4563-af0f-6cdc01b64662",
   "metadata": {},
   "outputs": [
    {
     "name": "stderr",
     "output_type": "stream",
     "text": [
      "                                                                                                                       \r"
     ]
    },
    {
     "name": "stdout",
     "output_type": "stream",
     "text": [
      "Epoch 1/40, Train Loss: 0.6782, Train Accuracy: 57.44%, Test Loss: 0.6573, Test Accuracy: 65.93%\n",
      "Best model saved at epoch 1 with Test Accuracy: 65.93%\n"
     ]
    },
    {
     "name": "stderr",
     "output_type": "stream",
     "text": [
      "                                                                                                                       \r"
     ]
    },
    {
     "name": "stdout",
     "output_type": "stream",
     "text": [
      "Epoch 2/40, Train Loss: 0.6478, Train Accuracy: 63.75%, Test Loss: 0.6329, Test Accuracy: 68.42%\n",
      "Best model saved at epoch 2 with Test Accuracy: 68.42%\n"
     ]
    },
    {
     "name": "stderr",
     "output_type": "stream",
     "text": [
      "                                                                                                                       \r"
     ]
    },
    {
     "name": "stdout",
     "output_type": "stream",
     "text": [
      "Epoch 3/40, Train Loss: 0.6287, Train Accuracy: 66.11%, Test Loss: 0.6160, Test Accuracy: 70.14%\n",
      "Best model saved at epoch 3 with Test Accuracy: 70.14%\n"
     ]
    },
    {
     "name": "stderr",
     "output_type": "stream",
     "text": [
      "                                                                                                                       \r"
     ]
    },
    {
     "name": "stdout",
     "output_type": "stream",
     "text": [
      "Epoch 4/40, Train Loss: 0.6165, Train Accuracy: 67.05%, Test Loss: 0.6033, Test Accuracy: 71.18%\n",
      "Best model saved at epoch 4 with Test Accuracy: 71.18%\n"
     ]
    },
    {
     "name": "stderr",
     "output_type": "stream",
     "text": [
      "                                                                                                                       \r"
     ]
    },
    {
     "name": "stdout",
     "output_type": "stream",
     "text": [
      "Epoch 5/40, Train Loss: 0.6052, Train Accuracy: 68.30%, Test Loss: 0.5924, Test Accuracy: 72.41%\n",
      "Best model saved at epoch 5 with Test Accuracy: 72.41%\n"
     ]
    },
    {
     "name": "stderr",
     "output_type": "stream",
     "text": [
      "                                                                                                                       \r"
     ]
    },
    {
     "name": "stdout",
     "output_type": "stream",
     "text": [
      "Epoch 6/40, Train Loss: 0.5958, Train Accuracy: 69.01%, Test Loss: 0.5823, Test Accuracy: 73.09%\n",
      "Best model saved at epoch 6 with Test Accuracy: 73.09%\n"
     ]
    },
    {
     "name": "stderr",
     "output_type": "stream",
     "text": [
      "                                                                                                                       \r"
     ]
    },
    {
     "name": "stdout",
     "output_type": "stream",
     "text": [
      "Epoch 7/40, Train Loss: 0.5869, Train Accuracy: 70.09%, Test Loss: 0.5745, Test Accuracy: 73.50%\n",
      "Best model saved at epoch 7 with Test Accuracy: 73.50%\n"
     ]
    },
    {
     "name": "stderr",
     "output_type": "stream",
     "text": [
      "                                                                                                                       \r"
     ]
    },
    {
     "name": "stdout",
     "output_type": "stream",
     "text": [
      "Epoch 8/40, Train Loss: 0.5795, Train Accuracy: 70.58%, Test Loss: 0.5668, Test Accuracy: 74.32%\n",
      "Best model saved at epoch 8 with Test Accuracy: 74.32%\n"
     ]
    },
    {
     "name": "stderr",
     "output_type": "stream",
     "text": [
      "                                                                                                                       \r"
     ]
    },
    {
     "name": "stdout",
     "output_type": "stream",
     "text": [
      "Epoch 9/40, Train Loss: 0.5738, Train Accuracy: 70.76%, Test Loss: 0.5608, Test Accuracy: 74.84%\n",
      "Best model saved at epoch 9 with Test Accuracy: 74.84%\n"
     ]
    },
    {
     "name": "stderr",
     "output_type": "stream",
     "text": [
      "                                                                                                                       \r"
     ]
    },
    {
     "name": "stdout",
     "output_type": "stream",
     "text": [
      "Epoch 10/40, Train Loss: 0.5672, Train Accuracy: 71.56%, Test Loss: 0.5542, Test Accuracy: 75.04%\n",
      "Best model saved at epoch 10 with Test Accuracy: 75.04%\n"
     ]
    },
    {
     "name": "stderr",
     "output_type": "stream",
     "text": [
      "                                                                                                                       \r"
     ]
    },
    {
     "name": "stdout",
     "output_type": "stream",
     "text": [
      "Epoch 11/40, Train Loss: 0.5624, Train Accuracy: 71.55%, Test Loss: 0.5492, Test Accuracy: 75.59%\n",
      "Best model saved at epoch 11 with Test Accuracy: 75.59%\n"
     ]
    },
    {
     "name": "stderr",
     "output_type": "stream",
     "text": [
      "                                                                                                                       \r"
     ]
    },
    {
     "name": "stdout",
     "output_type": "stream",
     "text": [
      "Epoch 12/40, Train Loss: 0.5579, Train Accuracy: 71.86%, Test Loss: 0.5444, Test Accuracy: 75.80%\n",
      "Best model saved at epoch 12 with Test Accuracy: 75.80%\n"
     ]
    },
    {
     "name": "stderr",
     "output_type": "stream",
     "text": [
      "                                                                                                                       \r"
     ]
    },
    {
     "name": "stdout",
     "output_type": "stream",
     "text": [
      "Epoch 13/40, Train Loss: 0.5535, Train Accuracy: 72.06%, Test Loss: 0.5401, Test Accuracy: 76.12%\n",
      "Best model saved at epoch 13 with Test Accuracy: 76.12%\n"
     ]
    },
    {
     "name": "stderr",
     "output_type": "stream",
     "text": [
      "                                                                                                                       \r"
     ]
    },
    {
     "name": "stdout",
     "output_type": "stream",
     "text": [
      "Epoch 14/40, Train Loss: 0.5492, Train Accuracy: 72.34%, Test Loss: 0.5361, Test Accuracy: 76.38%\n",
      "Best model saved at epoch 14 with Test Accuracy: 76.38%\n"
     ]
    },
    {
     "name": "stderr",
     "output_type": "stream",
     "text": [
      "                                                                                                                       \r"
     ]
    },
    {
     "name": "stdout",
     "output_type": "stream",
     "text": [
      "Epoch 15/40, Train Loss: 0.5454, Train Accuracy: 72.75%, Test Loss: 0.5313, Test Accuracy: 76.64%\n",
      "Best model saved at epoch 15 with Test Accuracy: 76.64%\n"
     ]
    },
    {
     "name": "stderr",
     "output_type": "stream",
     "text": [
      "                                                                                                                       \r"
     ]
    },
    {
     "name": "stdout",
     "output_type": "stream",
     "text": [
      "Epoch 16/40, Train Loss: 0.5416, Train Accuracy: 73.07%, Test Loss: 0.5283, Test Accuracy: 76.81%\n",
      "Best model saved at epoch 16 with Test Accuracy: 76.81%\n"
     ]
    },
    {
     "name": "stderr",
     "output_type": "stream",
     "text": [
      "                                                                                                                       \r"
     ]
    },
    {
     "name": "stdout",
     "output_type": "stream",
     "text": [
      "Epoch 17/40, Train Loss: 0.5387, Train Accuracy: 73.07%, Test Loss: 0.5247, Test Accuracy: 77.01%\n",
      "Best model saved at epoch 17 with Test Accuracy: 77.01%\n"
     ]
    },
    {
     "name": "stderr",
     "output_type": "stream",
     "text": [
      "                                                                                                                       \r"
     ]
    },
    {
     "name": "stdout",
     "output_type": "stream",
     "text": [
      "Epoch 18/40, Train Loss: 0.5349, Train Accuracy: 73.37%, Test Loss: 0.5218, Test Accuracy: 77.16%\n",
      "Best model saved at epoch 18 with Test Accuracy: 77.16%\n"
     ]
    },
    {
     "name": "stderr",
     "output_type": "stream",
     "text": [
      "                                                                                                                       \r"
     ]
    },
    {
     "name": "stdout",
     "output_type": "stream",
     "text": [
      "Epoch 19/40, Train Loss: 0.5322, Train Accuracy: 73.49%, Test Loss: 0.5186, Test Accuracy: 77.23%\n",
      "Best model saved at epoch 19 with Test Accuracy: 77.23%\n"
     ]
    },
    {
     "name": "stderr",
     "output_type": "stream",
     "text": [
      "                                                                                                                       \r"
     ]
    },
    {
     "name": "stdout",
     "output_type": "stream",
     "text": [
      "Epoch 20/40, Train Loss: 0.5303, Train Accuracy: 73.53%, Test Loss: 0.5153, Test Accuracy: 77.47%\n",
      "Best model saved at epoch 20 with Test Accuracy: 77.47%\n"
     ]
    },
    {
     "name": "stderr",
     "output_type": "stream",
     "text": [
      "                                                                                                                       \r"
     ]
    },
    {
     "name": "stdout",
     "output_type": "stream",
     "text": [
      "Epoch 21/40, Train Loss: 0.5271, Train Accuracy: 73.66%, Test Loss: 0.5134, Test Accuracy: 77.62%\n",
      "Best model saved at epoch 21 with Test Accuracy: 77.62%\n"
     ]
    },
    {
     "name": "stderr",
     "output_type": "stream",
     "text": [
      "                                                                                                                       \r"
     ]
    },
    {
     "name": "stdout",
     "output_type": "stream",
     "text": [
      "Epoch 22/40, Train Loss: 0.5235, Train Accuracy: 74.27%, Test Loss: 0.5102, Test Accuracy: 77.77%\n",
      "Best model saved at epoch 22 with Test Accuracy: 77.77%\n"
     ]
    },
    {
     "name": "stderr",
     "output_type": "stream",
     "text": [
      "                                                                                                                       \r"
     ]
    },
    {
     "name": "stdout",
     "output_type": "stream",
     "text": [
      "Epoch 23/40, Train Loss: 0.5224, Train Accuracy: 74.07%, Test Loss: 0.5085, Test Accuracy: 77.80%\n",
      "Best model saved at epoch 23 with Test Accuracy: 77.80%\n"
     ]
    },
    {
     "name": "stderr",
     "output_type": "stream",
     "text": [
      "                                                                                                                       \r"
     ]
    },
    {
     "name": "stdout",
     "output_type": "stream",
     "text": [
      "Epoch 24/40, Train Loss: 0.5191, Train Accuracy: 74.09%, Test Loss: 0.5059, Test Accuracy: 77.89%\n",
      "Best model saved at epoch 24 with Test Accuracy: 77.89%\n"
     ]
    },
    {
     "name": "stderr",
     "output_type": "stream",
     "text": [
      "                                                                                                                       \r"
     ]
    },
    {
     "name": "stdout",
     "output_type": "stream",
     "text": [
      "Epoch 25/40, Train Loss: 0.5191, Train Accuracy: 74.06%, Test Loss: 0.5041, Test Accuracy: 77.98%\n",
      "Best model saved at epoch 25 with Test Accuracy: 77.98%\n"
     ]
    },
    {
     "name": "stderr",
     "output_type": "stream",
     "text": [
      "                                                                                                                       \r"
     ]
    },
    {
     "name": "stdout",
     "output_type": "stream",
     "text": [
      "Epoch 26/40, Train Loss: 0.5156, Train Accuracy: 74.20%, Test Loss: 0.5017, Test Accuracy: 78.02%\n",
      "Best model saved at epoch 26 with Test Accuracy: 78.02%\n"
     ]
    },
    {
     "name": "stderr",
     "output_type": "stream",
     "text": [
      "                                                                                                                       \r"
     ]
    },
    {
     "name": "stdout",
     "output_type": "stream",
     "text": [
      "Epoch 27/40, Train Loss: 0.5137, Train Accuracy: 74.33%, Test Loss: 0.4994, Test Accuracy: 78.36%\n",
      "Best model saved at epoch 27 with Test Accuracy: 78.36%\n"
     ]
    },
    {
     "name": "stderr",
     "output_type": "stream",
     "text": [
      "                                                                                                                       \r"
     ]
    },
    {
     "name": "stdout",
     "output_type": "stream",
     "text": [
      "Epoch 28/40, Train Loss: 0.5114, Train Accuracy: 74.67%, Test Loss: 0.4975, Test Accuracy: 78.34%\n"
     ]
    },
    {
     "name": "stderr",
     "output_type": "stream",
     "text": [
      "                                                                                                                       \r"
     ]
    },
    {
     "name": "stdout",
     "output_type": "stream",
     "text": [
      "Epoch 29/40, Train Loss: 0.5099, Train Accuracy: 74.61%, Test Loss: 0.4963, Test Accuracy: 78.46%\n",
      "Best model saved at epoch 29 with Test Accuracy: 78.46%\n"
     ]
    },
    {
     "name": "stderr",
     "output_type": "stream",
     "text": [
      "                                                                                                                       \r"
     ]
    },
    {
     "name": "stdout",
     "output_type": "stream",
     "text": [
      "Epoch 30/40, Train Loss: 0.5082, Train Accuracy: 74.69%, Test Loss: 0.4943, Test Accuracy: 78.60%\n",
      "Best model saved at epoch 30 with Test Accuracy: 78.60%\n"
     ]
    },
    {
     "name": "stderr",
     "output_type": "stream",
     "text": [
      "                                                                                                                       \r"
     ]
    },
    {
     "name": "stdout",
     "output_type": "stream",
     "text": [
      "Epoch 31/40, Train Loss: 0.5053, Train Accuracy: 75.13%, Test Loss: 0.4925, Test Accuracy: 78.68%\n",
      "Best model saved at epoch 31 with Test Accuracy: 78.68%\n"
     ]
    },
    {
     "name": "stderr",
     "output_type": "stream",
     "text": [
      "                                                                                                                       \r"
     ]
    },
    {
     "name": "stdout",
     "output_type": "stream",
     "text": [
      "Epoch 32/40, Train Loss: 0.5036, Train Accuracy: 75.26%, Test Loss: 0.4906, Test Accuracy: 78.74%\n",
      "Best model saved at epoch 32 with Test Accuracy: 78.74%\n"
     ]
    },
    {
     "name": "stderr",
     "output_type": "stream",
     "text": [
      "                                                                                                                       \r"
     ]
    },
    {
     "name": "stdout",
     "output_type": "stream",
     "text": [
      "Epoch 33/40, Train Loss: 0.5059, Train Accuracy: 74.85%, Test Loss: 0.4894, Test Accuracy: 78.80%\n",
      "Best model saved at epoch 33 with Test Accuracy: 78.80%\n"
     ]
    },
    {
     "name": "stderr",
     "output_type": "stream",
     "text": [
      "                                                                                                                       \r"
     ]
    },
    {
     "name": "stdout",
     "output_type": "stream",
     "text": [
      "Epoch 34/40, Train Loss: 0.5016, Train Accuracy: 75.33%, Test Loss: 0.4880, Test Accuracy: 78.82%\n",
      "Best model saved at epoch 34 with Test Accuracy: 78.82%\n"
     ]
    },
    {
     "name": "stderr",
     "output_type": "stream",
     "text": [
      "                                                                                                                       \r"
     ]
    },
    {
     "name": "stdout",
     "output_type": "stream",
     "text": [
      "Epoch 35/40, Train Loss: 0.5008, Train Accuracy: 75.16%, Test Loss: 0.4862, Test Accuracy: 78.93%\n",
      "Best model saved at epoch 35 with Test Accuracy: 78.93%\n"
     ]
    },
    {
     "name": "stderr",
     "output_type": "stream",
     "text": [
      "                                                                                                                       \r"
     ]
    },
    {
     "name": "stdout",
     "output_type": "stream",
     "text": [
      "Epoch 36/40, Train Loss: 0.4966, Train Accuracy: 75.67%, Test Loss: 0.4851, Test Accuracy: 78.98%\n",
      "Best model saved at epoch 36 with Test Accuracy: 78.98%\n"
     ]
    },
    {
     "name": "stderr",
     "output_type": "stream",
     "text": [
      "                                                                                                                       \r"
     ]
    },
    {
     "name": "stdout",
     "output_type": "stream",
     "text": [
      "Epoch 37/40, Train Loss: 0.4957, Train Accuracy: 75.64%, Test Loss: 0.4835, Test Accuracy: 78.92%\n"
     ]
    },
    {
     "name": "stderr",
     "output_type": "stream",
     "text": [
      "                                                                                                                       \r"
     ]
    },
    {
     "name": "stdout",
     "output_type": "stream",
     "text": [
      "Epoch 38/40, Train Loss: 0.4950, Train Accuracy: 75.67%, Test Loss: 0.4816, Test Accuracy: 79.09%\n",
      "Best model saved at epoch 38 with Test Accuracy: 79.09%\n"
     ]
    },
    {
     "name": "stderr",
     "output_type": "stream",
     "text": [
      "                                                                                                                       \r"
     ]
    },
    {
     "name": "stdout",
     "output_type": "stream",
     "text": [
      "Epoch 39/40, Train Loss: 0.4939, Train Accuracy: 75.67%, Test Loss: 0.4806, Test Accuracy: 79.14%\n",
      "Best model saved at epoch 39 with Test Accuracy: 79.14%\n"
     ]
    },
    {
     "name": "stderr",
     "output_type": "stream",
     "text": [
      "                                                                                                                       \r"
     ]
    },
    {
     "name": "stdout",
     "output_type": "stream",
     "text": [
      "Epoch 40/40, Train Loss: 0.4911, Train Accuracy: 75.98%, Test Loss: 0.4793, Test Accuracy: 79.13%\n"
     ]
    }
   ],
   "source": [
    "sgd_optimizer_3 = optim.SGD(model_l1.parameters(), lr=0.001)\n",
    "\n",
    "criterion = nn.CrossEntropyLoss()\n",
    "train_loss_l1, train_acc_l1, test_loss_l1, test_acc_l1 = train_and_evaluate(\n",
    "    model_l1, train_loader, test_loader, sgd_optimizer_3, criterion, epochs=40, save_path='best_model_l1.pth'\n",
    ")"
   ]
  },
  {
   "cell_type": "code",
   "execution_count": 17,
   "id": "32e4f61b-b36c-4911-b013-4166332cc62d",
   "metadata": {},
   "outputs": [
    {
     "data": {
      "image/png": "[encoded data removed]",
      "text/plain": [
       "<Figure size 1200x500 with 2 Axes>"
      ]
     },
     "metadata": {},
     "output_type": "display_data"
    }
   ],
   "source": [
    "epochs = range(1, len(test_loss_l1) + 1)\n",
    "plt.figure(figsize=(12, 5))\n",
    "\n",
    "# Plot for Test Accuracy\n",
    "plt.subplot(1, 2, 1)\n",
    "plt.plot(epochs, test_acc_l1, label='Test Accuracy', marker='o')\n",
    "plt.title('Test Accuracy for: 1 layer MLP')  \n",
    "plt.xlabel('Epochs')\n",
    "plt.ylabel('Accuracy (%)')\n",
    "plt.grid(True)\n",
    "plt.legend()\n",
    "\n",
    "# Plot for Test Loss\n",
    "plt.subplot(1, 2, 2)\n",
    "plt.plot(epochs, test_loss_l1, label='Test Loss', color='red', marker='o')\n",
    "plt.title('Test Loss for: 1 layer MLP')\n",
    "plt.xlabel('Epochs')\n",
    "plt.ylabel('Loss')\n",
    "plt.grid(True)\n",
    "plt.legend()\n",
    "\n",
    "plt.tight_layout()\n",
    "plt.show()"
   ]
  },
  {
   "cell_type": "markdown",
   "id": "45c0213a-707f-46ed-aab1-5e2290864094",
   "metadata": {},
   "source": [
    "#### Best Test set accuracy with 1 layer MLP: 79.14%\n",
    "Achieved at epoch 39"
   ]
  },
  {
   "cell_type": "markdown",
   "id": "0ae77488-eef0-4ae1-9fce-4be59c4f2f81",
   "metadata": {},
   "source": [
    "#### Q1: On the test set, what is the accuracy? Please draw a graph of test performance at each epoch of training.\n",
    "\n",
    "List of test set accuracies achieved:\n",
    "1. MLP with 2 layers, intermediate dim = 100 :**81.76%**\n",
    "2. MLP with 2 layers, intermediate dim = 200 :**81.91%**\n",
    "3. MLP with 1 layer :**79.14%**\n",
    "\n",
    "Graphs of test loss and accuracy across 40 epochs have been plotted for all 3 models above."
   ]
  },
  {
   "cell_type": "markdown",
   "id": "344c2ce2-bcca-4823-a53e-de201e4557c0",
   "metadata": {},
   "source": [
    "#### Q2: What is the performance (i.e., accuracy on the test set) of a two-layer MLP compared to a singlelayer MLP?\n",
    "\n",
    "Comparing the test set performance results of 2-layer MLPs and single-layer MLP in the **table below**:"
   ]
  },
  {
   "cell_type": "code",
   "execution_count": 18,
   "id": "aa0fe119-b28c-4d26-8464-d83d8f735740",
   "metadata": {},
   "outputs": [
    {
     "name": "stdout",
     "output_type": "stream",
     "text": [
      "╒════════════════════════════════════╤═════════════════════╤═══════════════════════════════════════════╕\n",
      "│ Model                              │   Test Accuracy (%) │ Accuracy Drop w.r.t Single-Layer MLP(%)   │\n",
      "╞════════════════════════════════════╪═════════════════════╪═══════════════════════════════════════════╡\n",
      "│ Single-Layer MLP                   │               79.14 │ -                                         │\n",
      "├────────────────────────────────────┼─────────────────────┼───────────────────────────────────────────┤\n",
      "│ 2-Layer MLP (intermediate dim=100) │               81.76 │ 2.6200000000000045                        │\n",
      "├────────────────────────────────────┼─────────────────────┼───────────────────────────────────────────┤\n",
      "│ 2-Layer MLP (intermediate dim=200) │               81.91 │ 2.769999999999996                         │\n",
      "╘════════════════════════════════════╧═════════════════════╧═══════════════════════════════════════════╛\n"
     ]
    }
   ],
   "source": [
    "# comparison of 2-layer MLPs and single-layer MLP\n",
    "data_comparison = {\n",
    "    'Model': ['Single-Layer MLP', '2-Layer MLP (intermediate dim=100)', '2-Layer MLP (intermediate dim=200)'],\n",
    "    'Test Accuracy (%)': [79.14, 81.76, 81.91],\n",
    "    'Accuracy Drop w.r.t Single-Layer MLP(%)': [\"-\", 81.76-79.14, 81.91-79.14]\n",
    "}\n",
    "\n",
    "df_comparison = pd.DataFrame(data_comparison)\n",
    "\n",
    "print(tabulate(df_comparison, headers='keys', tablefmt='fancy_grid', showindex=False))\n"
   ]
  },
  {
   "cell_type": "markdown",
   "id": "1ee92880-0fc4-4639-92e6-c97f2501bc7e",
   "metadata": {},
   "source": [
    "The above results correspond to the best test accuracy results obtained over 40 epochs of training. It is evident that the **two-layer MLP** is capable of capturing more **complex patterns through intermediate feature transformations**, and that 2 layers introduces **more non-linearity** into the model. \n",
    "\n",
    "In contrast, the **single-layer MLP lacks** this capacity, leading to **underfitting and drop in test accuracy**. It has limited expressive power and is not able to **learn richer representations** in tasks like sentiment analysis."
   ]
  },
  {
   "cell_type": "markdown",
   "id": "0bb22388-6eb8-4ab2-8920-bfd09463dc5f",
   "metadata": {},
   "source": [
    "#### Q3: What happens in the performance if you increase the number of dimensions of the intermediate layer from 100 to 200?"
   ]
  },
  {
   "cell_type": "code",
   "execution_count": 65,
   "id": "0b156a61-f208-4d29-b249-f29616c85fd4",
   "metadata": {},
   "outputs": [
    {
     "name": "stdout",
     "output_type": "stream",
     "text": [
      "Performance Comparison table for changing intermediate dimension:\n",
      "╒════════════════════════════════╤═════════════╤═════════════════════╤══════════════════╕\n",
      "│   2-layer MLP Intermediate Dim │   Test Loss │   Test Accuracy (%) │   Best Epoch no. │\n",
      "╞════════════════════════════════╪═════════════╪═════════════════════╪══════════════════╡\n",
      "│                            100 │      0.4043 │               81.76 │               40 │\n",
      "├────────────────────────────────┼─────────────┼─────────────────────┼──────────────────┤\n",
      "│                            200 │      0.4044 │               81.91 │               36 │\n",
      "╘════════════════════════════════╧═════════════╧═════════════════════╧══════════════════╛\n"
     ]
    }
   ],
   "source": [
    "# Data for the comparison table\n",
    "data = {\n",
    "    '2-layer MLP Intermediate Dim': [100, 200],\n",
    "    'Test Loss': [0.4043, 0.4044],\n",
    "    'Test Accuracy (%)': [81.76, 81.91],\n",
    "    'Best Epoch no.': [40, 36]\n",
    "}\n",
    "\n",
    "df = pd.DataFrame(data)\n",
    "print(\"Performance Comparison table for changing intermediate dimension:\")\n",
    "print(tabulate(df, headers='keys', tablefmt='fancy_grid', showindex=False))"
   ]
  },
  {
   "cell_type": "markdown",
   "id": "7ff08825-642e-4558-9b79-4ab9aa4861f4",
   "metadata": {},
   "source": [
    "**Observation:**\n",
    "\n",
    "Larger intermediate dimension (dim=200) results in slightly higher testing accuracy (81.91%) compared to dim=100 (81.76%).\n",
    "The test loss remains similar (~0.404) in both cases.\n",
    "\n",
    "**Explanation:**\n",
    "\n",
    "The small improvement in test accuracy with the larger dimension (200) is due to the model’s **increased capacity to capture complex patterns**. However, the **rate of improvement slows down**, suggesting that the added complexity may lead to overfitting and offer minimal benefits. Thus, there is a limit to how much increasing the model size can enhance performance."
   ]
  },
  {
   "cell_type": "markdown",
   "id": "a3331156-ca00-4e9d-bfe9-e8ce3b843ade",
   "metadata": {},
   "source": [
    "#### Q4: Did you have a look at the test set samples that are incorrectly predicted by the model? Why are the errors occurring?\n",
    "The **show_incorrect_predictions** function randomly samples incorrect predictions from the model's output. Then it will display the reviews (truncated text) with their true and predicted labels \n",
    "for analysis."
   ]
  },
  {
   "cell_type": "code",
   "execution_count": 64,
   "id": "ccda87ee-3733-4064-a2b8-7b05b0916e55",
   "metadata": {},
   "outputs": [
    {
     "name": "stdout",
     "output_type": "stream",
     "text": [
      "Showing 4 incorrectly classified samples:\n",
      "\n",
      "True label: 0, Predicted: 1\n",
      "Text: Reading the book I felt once again drawn into Castle Rock Things being the final part of the Rock trilogy), and the plot was a variant on the comes to small redneck type story King likes to tell. The characters were all described in loving detail, and it made both a good psychological and gory horror. The film on the other hand is awful. Gone are the character interactions and clever plot, and replaced by a story that tries to be exciting but misses by a mile. If you haven't read the book then you might enjoy this, else avoid at all costs, as with most films of King's books. Things was one of my favorite Stephen King books. But this movie is one of the worst book to film adaptations I have ever seen they changed so many things around that it made me sick. Even the concept of the book being deception, things not always what they appear reminder throughout the book was not shown in the movie. it was enjoyable as many Stephen King films are, but as many Stephen King films this one did not follow the book and became a piece of Hollywood trailer trash. 2/10\n",
      "------------------------------------------------------------------------------------------------------------------------------------------------------\n",
      "True label: 0, Predicted: 1\n",
      "Text: says that Storm\" is banned in Sweden. That is not correct! Instead you can buy the film almost everywhere, like in gas stations, shopping malls, internet (of course) and so on. Often to a very low price because this movie is so BAD and nobody wants to see it, despite all the tricks to keep up the interest. The movie only appeals to conspiracy theorists, psychos and other persons living in and those who the truth\". <br /><br />Working on a museum with the Estonia disaster as a theme I have meet them all! I have heard about every theory that exists like biological warfare, nuclear smuggling, red aliens, the the the the and the Finnish intelligence, often in different /><br />Some normal persons have asked why we don't show the film? A question only asked by them who haven't seen this terrible nonsense movie. <br /><br />Once again, Storm\" is not banned in Sweden. It has some entertaining qualities but what a hell is Donald Sutherland doing in this movie? This is a really obnoxious show. It is in fact an example of how low television has fallen since 'reality' got in style. Tanya is pretty but she is also extremely rude and has awful taste. Is a house show the place for sex Apparently some males like the show because they find Tanya attractive. The other boss is not pretty but he's fully as rude and also has awful taste. It is unfortunate that so many houses have to be shown while someone is still living in them. Most of the people who are allegedly viewing these houses before changes are made should be moving into brand new houses or completely empty ones so they will not be insulting anyone. Most of them the to be taught manners. I can imagine how awful the British show is since the British reality shows tend to be even worse when it comes to manners and taste.<br /><br />What happened to the Arts and Entertainment channel? When it started out (and for some years it was filled with treats. Now it's one big trash machine. is a change of pace for monochrome, mawkish an...\n",
      "------------------------------------------------------------------------------------------------------------------------------------------------------\n",
      "True label: 1, Predicted: 0\n",
      "Text: Finally watched this shocking movie last night, and what a disturbing it is, and unbelievably bloody and some unforgettable scenes, and a total assault on the senses. Looks like a movie from the minds of Lynch (specifically and even a little of What this guy does to his pregnant sister is beyond belief, but then again, did it really happen or is it his brain's left and right sides doing battle. That's the main theme of this piece of art, to draw a fine line between fantasy and reality, and what would happen if the right side of the brain that dreams and fantasizes overtakes the reasoning and logical left side. And the music in this movie is unbelievable, a kind of electronic score that is absolutely perfect. Even though this movie is totally shocking and pretty disgusting in some of the most extreme scenes (including hard core sex) you will ever see in any movie, I viewed it as a work of art, and loved it. And that music still amazes me, I have to try and find the soundtrack if is available. Watching is a real event, and not something the viewer will easily forget. And a note to gorehounds, this is a /><br Be careful buying this movie, because some prints have fogging on the graphic sex scenes and extreme gore, especially the copies from the Japanese release. has to be one of the most disturbing films I've ever seen. and \"Cannibal Holocaust\" didn't bother me that much, but there's a strange psychological element to This film invades your subconscious mind with shocking taboos, surrealist visuals and one of the most unsettling film scores and sound designs. at times; yes, but its visual flair can be compared to Avant Gard directors such as Alejandro Dario Argento, Dusan Makavejev and David Lynch. Take the most extreme elements of those 4 directors and throw in the graphic violence of a film by Fulci, and you might be able to guess what you're in for. <br /><br />The film is divided into 4 parts. The first part \"the Eye\" is real short. A narrator tells us about the th...\n",
      "------------------------------------------------------------------------------------------------------------------------------------------------------\n",
      "True label: 1, Predicted: 0\n",
      "Text: A kooky, but funny bit of diversion. You kind of have to see it from the beginning to follow what's happening, but each report to earth has it's own little joke. Pretty good special effects for a very low budget sci-fi t.v. show. It's fun to watch. Sort of in the vein of Red Dwarf, but even more low budget. For someone who's just coming in in the middle of one of the episodes, what you have to realize is that these guys are all incompetent, because they've been moved up the ladder of command, because the other officers died. Also, the main guys are from the laundry which is why they have laundry in everything. If you like Red Dwarf, you'll probably like this. Slightly different t.v. concept, in that all you see is the report each day.<br /><br />It would be better if this were explained more, not just in the very beginning of the first episode, but then it was pretty hard to figure out what had happened in Red Dwarf too, if you hadn't been told. After the death of all senior officers, Commander of the and finds himself promoted to command of an intergalactic spaceship owned by Corporation. Its chief mission is to search for planets and, of course, long-term coffee /><br and his second in command, Chief find themselves ill-prepared for command, except insofar as they are fully able to keep the crew's undies is not to diminish the importance of clean especially when incompetent commanders cause those same undies to be, well, soiled on a regular basis.<br /><br />The episodes are presented as a series of short, 2-3 minutes reports by the Commander to Earth. The humor is a mix of wry deadpan and outrageous physical comedy. Think Yes Minister meets Red Dwarf, but on a shoe-string budget. All the usual plot devices of sci-fi are nuclear weapons, computer each is improved by the fresh scent of laundry /><br Log is definitely low-budget, but the somewhat cheesy effects and props fit the absurd premise of the show. Remember those hilarious hockey helmets they wore on the old...\n",
      "------------------------------------------------------------------------------------------------------------------------------------------------------\n"
     ]
    }
   ],
   "source": [
    "# code inspired by ChatGPT\n",
    "def show_incorrect_predictions(model, data_loader, vocab, num_samples=1, max_text_length=2000):\n",
    "    model.eval()  # Set the model to evaluation mode\n",
    "    incorrect_predictions = []\n",
    "    \n",
    "    # Disable gradient calculations for inference\n",
    "    with torch.no_grad():\n",
    "        for labels, texts, offsets in data_loader:\n",
    "            labels = labels.to(device)\n",
    "            texts = texts.to(device)\n",
    "            offsets = offsets.to(device)\n",
    "            \n",
    "            # Get model predictions\n",
    "            output = model(texts, offsets)\n",
    "            predicted_classes = output.argmax(dim=1)\n",
    "            \n",
    "            # Find incorrect predictions\n",
    "            incorrect_idxs = (predicted_classes != labels).nonzero(as_tuple=True)[0]\n",
    "            \n",
    "            for idx in incorrect_idxs:\n",
    "                predicted_label = predicted_classes[idx].item()\n",
    "                true_label = labels[idx].item()\n",
    "                \n",
    "                # Convert the tokenized text back into human-readable format\n",
    "                token_ids = texts[offsets[idx]:offsets[idx] + len(texts[offsets[idx]:])]\n",
    "                original_text = ' '.join([vocab.lookup_token(token_id.item()) for token_id in token_ids])\n",
    "                \n",
    "                # Truncate the text if it's too long\n",
    "                if len(original_text) > max_text_length:\n",
    "                    original_text = original_text[:max_text_length] + '...'\n",
    "                \n",
    "                incorrect_predictions.append((true_label, predicted_label, original_text))\n",
    "    \n",
    "    # Randomly sample from the incorrect predictions\n",
    "    sampled_predictions = random.sample(incorrect_predictions, min(num_samples, len(incorrect_predictions)))\n",
    "    \n",
    "    # Display the incorrect predictions\n",
    "    print(f\"Showing {len(sampled_predictions)} incorrectly classified samples:\\n\")\n",
    "    for true_label, predicted_label, text in sampled_predictions:\n",
    "        print(f\"True label: {true_label}, Predicted: {predicted_label}\")\n",
    "        print(f\"Text: {text}\")\n",
    "        print('-' * 150)\n",
    "\n",
    "# Show some randomly selected incorrectly classified samples\n",
    "show_incorrect_predictions(model_l2_dim_200, test_loader, vocab, num_samples=4)"
   ]
  },
  {
   "cell_type": "markdown",
   "id": "abb6d082-1cde-44b8-9dbc-5e73a15a5366",
   "metadata": {},
   "source": [
    "#### Analysing some misclassified test samples by the 2-layer MLP model (intermediate dim = 200): \n",
    "\n",
    "It looks like the misclassified examples all share a lot of sarcastic or mixed language, with the text containing both negative and positive words. The model seems to struggle with distinguishing such complex nuances, which is likely contributing to the incorrect predictions of sentiment. \n",
    "\n",
    "The sarcasm and long-winded nature of the reviews makes it confusing to assign an overall sentiment label for the classifier. We need to introduce more non-linearity into the model - like increasing depth or advanced architectures, using pre-trained advanced embeddings and data augmentation to get the correct sentiment predicted in such cases."
   ]
  },
  {
   "cell_type": "code",
   "execution_count": null,
   "id": "4d3096da-9b27-47c5-b07a-0c59fc7c2c98",
   "metadata": {},
   "outputs": [],
   "source": []
  }
 ],
 "metadata": {
  "kernelspec": {
   "display_name": "Python 3 (ipykernel)",
   "language": "python",
   "name": "python3"
  },
  "language_info": {
   "codemirror_mode": {
    "name": "ipython",
    "version": 3
   },
   "file_extension": ".py",
   "mimetype": "text/x-python",
   "name": "python",
   "nbconvert_exporter": "python",
   "pygments_lexer": "ipython3",
   "version": "3.10.14"
  }
 },
 "nbformat": 4,
 "nbformat_minor": 5
}
